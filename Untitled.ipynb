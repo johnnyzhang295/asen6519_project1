{
 "cells": [
  {
   "cell_type": "code",
   "execution_count": 218,
   "metadata": {},
   "outputs": [
    {
     "name": "stdout",
     "output_type": "stream",
     "text": [
      "A\n",
      "0 0.25 0.2 0.15\n",
      "0 0.25 0.2 0.15\n",
      "C\n",
      "C\n",
      "0.3684210526315789 0.15789473684210525 0 0.21052631578947367\n",
      "A\n",
      "A\n",
      "0 0.25 0.2 0.15\n",
      "0 0.25 0.2 0.15\n",
      "D\n",
      "D\n",
      "0.25 0.0 0.08333333333333333 0\n",
      "C\n",
      "C\n",
      "0.3684210526315789 0.15789473684210525 0 0.21052631578947367\n",
      "D\n",
      "D\n",
      "0.25 0.0 0.08333333333333333 0\n",
      "A\n",
      "A\n",
      "0 0.25 0.2 0.15\n",
      "B\n",
      "B\n",
      "0.4117647058823529 0 0.11764705882352941 0.11764705882352941\n",
      "A\n",
      "A\n",
      "0 0.25 0.2 0.15\n",
      "C\n",
      "C\n",
      "0.3684210526315789 0.15789473684210525 0 0.21052631578947367\n",
      "A\n"
     ]
    },
    {
     "data": {
      "image/png": "[encoded data removed]",
      "text/plain": [
       "<Figure size 432x288 with 1 Axes>"
      ]
     },
     "metadata": {
      "needs_background": "light"
     },
     "output_type": "display_data"
    }
   ],
   "source": [
    "import numpy as np\n",
    "import string\n",
    "import matplotlib.pyplot as plt\n",
    "\n",
    "class AOI():\n",
    "    def __init__(self, ID, S, Ex, Ef, V):\n",
    "        self.ID = ID\n",
    "        self.S = S\n",
    "        self.Ex = Ex\n",
    "        self.Ef = Ef\n",
    "        self.V = V\n",
    "        self.t = 0\n",
    "    \n",
    "    def view_AOI_time(self):\n",
    "        #Return a random sample from log normal dist mu=0, sigma=.5\n",
    "        time = np.random.lognormal(0,.5)\n",
    "        self.t += time\n",
    "        return time\n",
    "               \n",
    "class Observer():\n",
    "    def __init__(self):\n",
    "         self.currentAOI = None\n",
    "         self.nextAOI = None\n",
    "         self.betweenTime = 0\n",
    "         \n",
    "    def eye_movement_time(self):\n",
    "        #Return a random sample from normal dist mu=.03, sigma=.003\n",
    "        time = np.random.normal(.03,.003)\n",
    "        self.betweenTime += time\n",
    "        return time\n",
    "                \n",
    "def p_abs(currentAOI, nextAOI):\n",
    "    #print(nextAOI.S, nextAOI.Ef[currentAOI.ID], nextAOI.Ex, nextAOI.V)\n",
    "    return nextAOI.S - nextAOI.Ef[currentAOI.ID] + nextAOI.Ex + nextAOI.V\n",
    "\n",
    "def p(currentAOI, nextAOI, AOI_list):\n",
    "    if currentAOI.ID == nextAOI.ID:\n",
    "        return 0\n",
    "    \n",
    "    numerator = p_abs(currentAOI, nextAOI)\n",
    "    denominator = 0\n",
    "\n",
    "    for AOI in AOI_list:\n",
    "        denominator += p_abs(currentAOI, AOI)\n",
    "    return numerator/denominator\n",
    "\n",
    "\n",
    "A_Ef = {'A':0,'B':1,'C':1,'D':5}\n",
    "B_Ef = {'A':1,'B':0,'C':3,'D':6}\n",
    "C_Ef = {'A':1,'B':3,'C':0,'D':4}\n",
    "D_Ef = {'A':5,'B':6,'C':4,'D':0}\n",
    "\n",
    "AOI_A = AOI('A',2,4,A_Ef,2)\n",
    "AOI_B = AOI('B',3,2,B_Ef,1)\n",
    "AOI_C = AOI('C',1,3,C_Ef,1)\n",
    "AOI_D = AOI('D',2,1,D_Ef,5)\n",
    "\n",
    "AOI_list = [AOI_A, AOI_B, AOI_C, AOI_D]\n",
    "\n",
    "iterations = 10\n",
    "mark_watney = Observer()\n",
    "\n",
    "time = AOI_A.view_AOI_time()\n",
    "current = AOI_A\n",
    "for i in range(0,iterations):\n",
    "    #global current\n",
    "    time += mark_watney.eye_movement_time()\n",
    "\n",
    "    nextAOI = current\n",
    "    print(current.ID)\n",
    "    while current.ID == nextAOI.ID:\n",
    "        goto_A = p(current, AOI_A, AOI_list)\n",
    "        goto_B = p(current, AOI_B, AOI_list)\n",
    "        goto_C = p(current, AOI_C, AOI_list)\n",
    "        goto_D = p(current, AOI_D, AOI_list)\n",
    "        \n",
    "        print(goto_A, goto_B, goto_C, goto_D)\n",
    "        random_num = np.random.random() # 0-1.0\n",
    "        if random_num < goto_D:\n",
    "            nextAOI = AOI_D\n",
    "        elif random_num < goto_B + goto_D:\n",
    "            nextAOI = AOI_B\n",
    "        elif random_num < goto_C + goto_B + goto_D:\n",
    "            nextAOI = AOI_C\n",
    "        else:\n",
    "            nextAOI = AOI_A\n",
    "    print(nextAOI.ID)\n",
    "    current = nextAOI\n",
    "    time += nextAOI.view_AOI_time()\n",
    "\n",
    "data = [AOI_A.t, AOI_B.t, AOI_C.t,AOI_D.t, mark_watney.betweenTime]\n",
    "plt.scatter(['A','B','C','D','Between'],data,s=80)\n",
    "plt.show()"
   ]
  },
  {
   "cell_type": "code",
   "execution_count": 2,
   "metadata": {},
   "outputs": [
    {
     "data": {
      "image/png": "[encoded data removed]",
      "text/plain": [
       "<Figure size 432x288 with 1 Axes>"
      ]
     },
     "metadata": {
      "needs_background": "light"
     },
     "output_type": "display_data"
    }
   ],
   "source": [
    "import numpy as np\n",
    "import string\n",
    "import matplotlib.pyplot as plt\n",
    "\n",
    "class AOI():\n",
    "    def __init__(self, ID, S, Ex, Ef, V):\n",
    "        self.ID = ID\n",
    "        self.S = S\n",
    "        self.Ex = Ex\n",
    "        self.Ef = Ef\n",
    "        self.V = V\n",
    "        self.t = 0\n",
    "    \n",
    "    def view_AOI_time(self):\n",
    "        #Return a random sample from log normal dist mu=0, sigma=.5\n",
    "        time = np.random.lognormal(0,.5)\n",
    "        self.t += time\n",
    "        return time\n",
    "               \n",
    "class Observer():\n",
    "    def __init__(self):\n",
    "         self.currentAOI = None\n",
    "         self.nextAOI = None\n",
    "         self.betweenTime = 0\n",
    "         \n",
    "    def eye_movement_time(self):\n",
    "        #Return a random sample from normal dist mu=.03, sigma=.003\n",
    "        time = np.random.normal(.03,.003)\n",
    "        self.betweenTime += time\n",
    "        return time\n",
    "                \n",
    "def p_abs(currentAOI, nextAOI):\n",
    "    #print(nextAOI.S, nextAOI.Ef[currentAOI.ID], nextAOI.Ex, nextAOI.V)\n",
    "    return nextAOI.S - nextAOI.Ef[currentAOI.ID] + nextAOI.Ex + nextAOI.V\n",
    "\n",
    "def p(currentAOI, nextAOI, AOI_list):\n",
    "    if currentAOI.ID == nextAOI.ID:\n",
    "        return 0\n",
    "    \n",
    "    numerator = p_abs(currentAOI, nextAOI)\n",
    "    denominator = 0\n",
    "\n",
    "    for AOI in AOI_list:\n",
    "        denominator += p_abs(currentAOI, AOI)\n",
    "    return numerator/denominator\n",
    "\n",
    "\n",
    "A_Ef = {'A':0,'B':1,'C':1,'D':5}\n",
    "B_Ef = {'A':1,'B':0,'C':3,'D':6}\n",
    "C_Ef = {'A':1,'B':3,'C':0,'D':4}\n",
    "D_Ef = {'A':5,'B':6,'C':4,'D':0}\n",
    "\n",
    "AOI_A = AOI('A',2,4,A_Ef,2)\n",
    "AOI_B = AOI('B',3,2,B_Ef,1)\n",
    "AOI_C = AOI('C',1,3,C_Ef,1)\n",
    "AOI_D = AOI('D',2,1,D_Ef,5)\n",
    "\n",
    "AOI_list = [AOI_A, AOI_B, AOI_C, AOI_D]\n",
    "\n",
    "iterations = 100\n",
    "mark_watney = Observer()\n",
    "monte_carlo_iterations = 1000\n",
    "time = AOI_A.view_AOI_time()\n",
    "\n",
    "\n",
    "for j in range (0,monte_carlo_iterations):\n",
    "    current = AOI_A\n",
    "    for i in range(0,iterations):\n",
    "        #global current\n",
    "        time += mark_watney.eye_movement_time()\n",
    "        #print(current.ID)\n",
    "        #print(goto_A, goto_B, goto_C, goto_D)\n",
    "        nextAOI = None\n",
    "        goto_A = p(current, AOI_A, AOI_list)\n",
    "        goto_B =p(current, AOI_B, AOI_list)        \n",
    "        goto_C = p(current, AOI_C, AOI_list)\n",
    "        goto_D = p(current, AOI_D, AOI_list)\n",
    "\n",
    "        l = [goto_A,goto_B,goto_C,goto_D]\n",
    "        l = list(filter(lambda num: num != 0, l))\n",
    "        #print(l)\n",
    "        rand_num = np.random.randint(sum(l)*100) /100\n",
    "        #print(rand_num)\n",
    "        \n",
    "        if rand_num < l[0]:\n",
    "            if l[0] == goto_A:\n",
    "                nextAOI=AOI_A\n",
    "            elif l[0] == goto_B:\n",
    "                nextAOI = AOI_B\n",
    "            elif l[0] == goto_C:\n",
    "                nextAOI = AOI_C\n",
    "            else:\n",
    "                nextAOI = AOI_D\n",
    "        elif rand_num < (l[1]+l[0]):\n",
    "            if l[1] == goto_A:\n",
    "                nextAOI=AOI_A\n",
    "            elif l[1] == goto_B:\n",
    "                nextAOI = AOI_B\n",
    "            elif l[1] == goto_C:\n",
    "                nextAOI = AOI_C\n",
    "            else:\n",
    "                nextAOI = AOI_D\n",
    "        else:\n",
    "            if l[2] == goto_A:\n",
    "                nextAOI=AOI_A\n",
    "            elif l[2] == goto_B:\n",
    "                nextAOI = AOI_B\n",
    "            elif l[2] == goto_C:\n",
    "                nextAOI = AOI_C\n",
    "            else:\n",
    "                nextAOI = AOI_D\n",
    "        #print(current.ID)\n",
    "        #print(rand_num,l)\n",
    "        #print(nextAOI.ID)\n",
    "        time += nextAOI.view_AOI_time()\n",
    "        current=nextAOI\n",
    "\n",
    "data = [AOI_A.t/monte_carlo_iterations, AOI_B.t/monte_carlo_iterations, AOI_C.t/monte_carlo_iterations, \n",
    "        AOI_D.t/monte_carlo_iterations, mark_watney.betweenTime/monte_carlo_iterations]\n",
    "plt.scatter(['A','B','C','D','Between'],data,s=80)\n",
    "plt.title(\"100 Fixations for 1000 Monte Carlo Simulations\")\n",
    "#plt.savefig(\"problem2.png\")\n",
    "plt.show()"
   ]
  },
  {
   "cell_type": "code",
   "execution_count": 332,
   "metadata": {},
   "outputs": [
    {
     "data": {
      "image/png": "[encoded data removed]",
      "text/plain": [
       "<Figure size 432x288 with 1 Axes>"
      ]
     },
     "metadata": {
      "needs_background": "light"
     },
     "output_type": "display_data"
    }
   ],
   "source": [
    "data = [AOI_A.t/time, AOI_B.t/time, AOI_C.t/time, \n",
    "        AOI_D.t/time]\n",
    "plt.scatter(['A','B','C','D'],data,s=80)\n",
    "plt.title(\"100 Fixations for 1000 Monte Carlo Simulations\")\n",
    "plt.ylabel(\"Fraction Viewing Time\")\n",
    "plt.xlabel(\"Display ID\")\n",
    "plt.savefig(\"problem2try2.png\")\n",
    "plt.show()"
   ]
  },
  {
   "cell_type": "code",
   "execution_count": 260,
   "metadata": {},
   "outputs": [],
   "source": []
  },
  {
   "cell_type": "code",
   "execution_count": 261,
   "metadata": {},
   "outputs": [],
   "source": [
    "m = [x,y,z]"
   ]
  },
  {
   "cell_type": "code",
   "execution_count": 322,
   "metadata": {},
   "outputs": [
    {
     "data": {
      "text/plain": [
       "0.6"
      ]
     },
     "execution_count": 322,
     "metadata": {},
     "output_type": "execute_result"
    }
   ],
   "source": [
    "sum(l)"
   ]
  },
  {
   "cell_type": "code",
   "execution_count": 327,
   "metadata": {},
   "outputs": [
    {
     "name": "stdout",
     "output_type": "stream",
     "text": [
      "0.14\n",
      "0.57\n",
      "0.26\n",
      "0.06\n",
      "0.44\n",
      "0.49\n",
      "0.38\n",
      "0.34\n",
      "0.32\n",
      "0.39\n",
      "0.22\n",
      "0.52\n",
      "0.06\n",
      "0.15\n",
      "0.24\n",
      "0.27\n",
      "0.41\n",
      "0.49\n",
      "0.38\n",
      "0.49\n"
     ]
    }
   ],
   "source": [
    "for i in range(0,20):\n",
    "    \n",
    "     print(np.random.randint(sum(l)*100)/100 )"
   ]
  },
  {
   "cell_type": "code",
   "execution_count": 328,
   "metadata": {},
   "outputs": [
    {
     "name": "stdout",
     "output_type": "stream",
     "text": [
      "0.0\n",
      "0.5\n",
      "0.3\n",
      "0.2\n",
      "0.1\n",
      "0.4\n",
      "0.1\n",
      "0.5\n",
      "0.1\n",
      "0.2\n",
      "0.5\n",
      "0.3\n",
      "0.1\n",
      "0.5\n",
      "0.2\n",
      "0.2\n",
      "0.1\n",
      "0.4\n",
      "0.4\n",
      "0.5\n"
     ]
    }
   ],
   "source": [
    "for i in range(0,20):\n",
    "    \n",
    "     print(np.random.randint(sum(l)*10)/10 )"
   ]
  }
 ],
 "metadata": {
  "kernelspec": {
   "display_name": "Python 3",
   "language": "python",
   "name": "python3"
  },
  "language_info": {
   "codemirror_mode": {
    "name": "ipython",
    "version": 3
   },
   "file_extension": ".py",
   "mimetype": "text/x-python",
   "name": "python",
   "nbconvert_exporter": "python",
   "pygments_lexer": "ipython3",
   "version": "3.7.4"
  }
 },
 "nbformat": 4,
 "nbformat_minor": 2
}
