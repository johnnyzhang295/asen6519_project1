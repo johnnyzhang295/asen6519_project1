{
 "cells": [
  {
   "cell_type": "code",
   "execution_count": 4,
   "metadata": {},
   "outputs": [
    {
     "data": {
      "image/png": "[encoded data removed]",
      "text/plain": [
       "<Figure size 432x288 with 1 Axes>"
      ]
     },
     "metadata": {
      "needs_background": "light"
     },
     "output_type": "display_data"
    }
   ],
   "source": [
    "# -*- coding: utf-8 -*-\n",
    "\"\"\"\n",
    "Created on Sun Feb  9 12:44:08 2020\n",
    "\n",
    "@author: jammie\n",
    "\n",
    "Torin's Class 6519\n",
    "Spring 2020\n",
    "The University of Colorado Boulder\n",
    "\n",
    "Collaborators: Johnny Zhang, Rachel Rise, Alex Baughman\n",
    "\"\"\"\n",
    "\n",
    "import numpy as np\n",
    "import matplotlib.pyplot as plt\n",
    "\n",
    "#definitions\n",
    "#S = salience\n",
    "#A = Area of Interest\n",
    "#Ex = Expectancy of viewing\n",
    "#V = Value of viewing\n",
    "\n",
    "\n",
    "\n",
    "#define object AOI\n",
    "class AOI:\n",
    "\n",
    "    \"\"\" Point class represents and manipulates x,y coords. \"\"\"\n",
    "\n",
    "    def __init__(self, S =0, Ex =0, V =0, EfA=0, EfB=0, EfC=0, EfD=0, name = 'a'):\n",
    "        \"\"\" Create a new point at the origin \"\"\"\n",
    "        self.S = S\n",
    "        self.Ex = Ex\n",
    "        self.V = V\n",
    "        self.name = name\n",
    "        if EfA == 0:\n",
    "            self.selfA = 0\n",
    "        else:\n",
    "            self.selfA = S - EfA + Ex + V\n",
    "            \n",
    "        if EfB == 0:\n",
    "            self.selfB = 0\n",
    "        else:\n",
    "            self.selfB = S - EfB + Ex + V\n",
    "            \n",
    "        if EfC == 0:\n",
    "            self.selfC = 0\n",
    "        else:\n",
    "            self.selfC = S - EfC + Ex + V\n",
    "            \n",
    "        if EfD == 0:\n",
    "            self.selfD = 0\n",
    "        else:\n",
    "            self.selfD = S - EfD + Ex + V\n",
    "            \n",
    "    #interval function to stochastically determine which state comes next        \n",
    "    def stochnext(self):\n",
    "        tot = self.selfA + self.selfB + self.selfC + self.selfD\n",
    "        x = np.random.random()*tot\n",
    "        if x <= self.selfA:\n",
    "            ne = A\n",
    "        elif self.selfA < x <= self.selfA + self.selfB:\n",
    "            ne = B\n",
    "        elif self.selfA + self.selfB < x<= self.selfA + self.selfB + self.selfC:\n",
    "            ne = C\n",
    "        else:\n",
    "            ne = D\n",
    "        return ne\n",
    "        \n",
    "\n",
    "        \n",
    "#intput data on our AOIs\n",
    "A = AOI(2,4,2,0,1,1,5,'A')\n",
    "B = AOI(3,2,1,1,0,3,6,'B')\n",
    "C = AOI(1,3,1,1,3,0,4,'C')\n",
    "D = AOI(2,1,5,5,6,4,0,'D')\n",
    "    \n",
    "for j in range(0,1000):\n",
    "\n",
    "    state = A\n",
    "    states= [state.name]\n",
    "    t = [0]\n",
    "\n",
    "    for i in range (0,10):\n",
    "        #how long are we in this state for?\n",
    "        t.append(t[-1]+np.random.lognormal(0,0.5))\n",
    "        #we are now inbetween\n",
    "        states.append('between')\n",
    "        #how long are we inbetween for?\n",
    "        t.append(t[-1]+np.random.lognormal(0,0.5))\n",
    "        #pick next state\n",
    "        state = state.stochnext()\n",
    "        states.append(state.name)\n",
    "\n",
    "plt.step(t,states, where = 'post')\n",
    "\n",
    "def montecarlo(fixations = 100, start = A):\n",
    "    t = 0\n",
    "    state = start\n",
    "    myStates = {\n",
    "    'A': 0,\n",
    "    'B': 0,\n",
    "    'C': 0,\n",
    "    'D': 0\n",
    "       }\n",
    "    for i in range(0,fixations):\n",
    "        t += np.random.lognormal(0,0.5)\n",
    "        #how long are we inbetween for?\n",
    "        tplus = np.random.lognormal(0,0.5)\n",
    "        t+=tplus\n",
    "        myStates[state.name] += tplus\n",
    "        #pick next state\n",
    "        state = state.stochnext()\n",
    "        \n",
    "    myStates = {k: v / t for k, v in myStates.items()}\n",
    "    return myStates"
   ]
  },
  {
   "cell_type": "code",
   "execution_count": 5,
   "metadata": {},
   "outputs": [],
   "source": [
    "import random"
   ]
  },
  {
   "cell_type": "code",
   "execution_count": 24,
   "metadata": {},
   "outputs": [
    {
     "ename": "ValueError",
     "evalue": "non-integer arg 1 for randrange()",
     "output_type": "error",
     "traceback": [
      "\u001b[1;31m---------------------------------------------------------------------------\u001b[0m",
      "\u001b[1;31mValueError\u001b[0m                                Traceback (most recent call last)",
      "\u001b[1;32m<ipython-input-24-a4932591e9bc>\u001b[0m in \u001b[0;36m<module>\u001b[1;34m\u001b[0m\n\u001b[1;32m----> 1\u001b[1;33m \u001b[0mrandom\u001b[0m\u001b[1;33m.\u001b[0m\u001b[0mrandrange\u001b[0m\u001b[1;33m(\u001b[0m\u001b[1;36m.5\u001b[0m\u001b[1;33m)\u001b[0m\u001b[1;33m\u001b[0m\u001b[1;33m\u001b[0m\u001b[0m\n\u001b[0m",
      "\u001b[1;32m~\\Anaconda3\\lib\\random.py\u001b[0m in \u001b[0;36mrandrange\u001b[1;34m(self, start, stop, step, _int)\u001b[0m\n\u001b[0;32m    184\u001b[0m         \u001b[0mistart\u001b[0m \u001b[1;33m=\u001b[0m \u001b[0m_int\u001b[0m\u001b[1;33m(\u001b[0m\u001b[0mstart\u001b[0m\u001b[1;33m)\u001b[0m\u001b[1;33m\u001b[0m\u001b[1;33m\u001b[0m\u001b[0m\n\u001b[0;32m    185\u001b[0m         \u001b[1;32mif\u001b[0m \u001b[0mistart\u001b[0m \u001b[1;33m!=\u001b[0m \u001b[0mstart\u001b[0m\u001b[1;33m:\u001b[0m\u001b[1;33m\u001b[0m\u001b[1;33m\u001b[0m\u001b[0m\n\u001b[1;32m--> 186\u001b[1;33m             \u001b[1;32mraise\u001b[0m \u001b[0mValueError\u001b[0m\u001b[1;33m(\u001b[0m\u001b[1;34m\"non-integer arg 1 for randrange()\"\u001b[0m\u001b[1;33m)\u001b[0m\u001b[1;33m\u001b[0m\u001b[1;33m\u001b[0m\u001b[0m\n\u001b[0m\u001b[0;32m    187\u001b[0m         \u001b[1;32mif\u001b[0m \u001b[0mstop\u001b[0m \u001b[1;32mis\u001b[0m \u001b[1;32mNone\u001b[0m\u001b[1;33m:\u001b[0m\u001b[1;33m\u001b[0m\u001b[1;33m\u001b[0m\u001b[0m\n\u001b[0;32m    188\u001b[0m             \u001b[1;32mif\u001b[0m \u001b[0mistart\u001b[0m \u001b[1;33m>\u001b[0m \u001b[1;36m0\u001b[0m\u001b[1;33m:\u001b[0m\u001b[1;33m\u001b[0m\u001b[1;33m\u001b[0m\u001b[0m\n",
      "\u001b[1;31mValueError\u001b[0m: non-integer arg 1 for randrange()"
     ]
    }
   ],
   "source": [
    "random.randrange(.5)"
   ]
  },
  {
   "cell_type": "code",
   "execution_count": null,
   "metadata": {},
   "outputs": [],
   "source": []
  }
 ],
 "metadata": {
  "kernelspec": {
   "display_name": "Python 3",
   "language": "python",
   "name": "python3"
  },
  "language_info": {
   "codemirror_mode": {
    "name": "ipython",
    "version": 3
   },
   "file_extension": ".py",
   "mimetype": "text/x-python",
   "name": "python",
   "nbconvert_exporter": "python",
   "pygments_lexer": "ipython3",
   "version": "3.7.4"
  }
 },
 "nbformat": 4,
 "nbformat_minor": 2
}
